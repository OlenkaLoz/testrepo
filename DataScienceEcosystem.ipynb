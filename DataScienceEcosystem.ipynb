{
 "cells": [
  {
   "cell_type": "markdown",
   "id": "11a578a5-b253-4fbf-8760-86a59589b155",
   "metadata": {},
   "source": [
    "# Data Science Tools and Ecosystem"
   ]
  },
  {
   "cell_type": "markdown",
   "id": "d9c29afb-a5ee-4e20-9a2f-b69cc9f85dff",
   "metadata": {},
   "source": [
    "## In this notebook, Data Science Tools and Ecosystem are summarized."
   ]
  },
  {
   "cell_type": "markdown",
   "id": "0a3765f9-5bd2-4751-b751-323256ff091f",
   "metadata": {},
   "source": [
    "**Objectives**:\n",
    "\n",
    "- List popular languages for Data Science.\n",
    "- Identify commonly used libraries in Data Science.\n",
    "- Demonstrate basic operations in Jupyter Notebooks.\n",
    "- Convert units using Python code.\n",
    "- Explore tools and environments commonly used by Data Scientists.\n"
   ]
  },
  {
   "cell_type": "markdown",
   "id": "1351d21b-6edd-4a1a-af7b-f7d8bbcaab22",
   "metadata": {},
   "source": [
    "Some of the popular languages that Data Scientists use are:\n",
    "\n",
    "1. **Python**: Widely used for data manipulation, analysis, and machine learning due to its rich ecosystem of libraries like Pandas, NumPy, Scikit-learn, and TensorFlow.\n",
    "2. **R**: Known for statistical analysis, data visualization, and specialized packages for data science like ggplot2, dplyr, and caret.\n",
    "3. **SQL**: Essential for querying and managing structured data in relational databases, a fundamental skill for data manipulation and retrieval.\n",
    "4. **Julia**: Gaining popularity for high-performance computing and numerical analysis, especially in data-heavy workflows.\n",
    "5. **Scala**: Often used in conjunction with Apache Spark for big data processing and machine learning.\n"
   ]
  },
  {
   "cell_type": "markdown",
   "id": "f37dbd2f-b7fa-4cc6-9dd9-72ae8c56186d",
   "metadata": {},
   "source": [
    "Some of the commonly used libraries used by Data Scientists include:\n",
    "\n",
    "1. **TensorFlow**: useful for tasks such as speech and image recognition, text applications, time series analysis, and video detection.\n",
    "2. **Pandas**: provides data processing and analysis tools that can be used to analyze data. The library contains its own powerful data structures for processing numerical tables and time series analysis.\n",
    "3. **Numpy**: is a Python library that can be easily used to handle large multidimensional arrays and matrices. It uses a large set of high-level mathematical functions, which makes it particularly useful for efficient fundamental scientific computations.\n",
    "4. **Matplotlib**: is a graphics library for Python that has a community of over 700 members. It creates charts and graphs that can be used to visualize data, as well as an object-oriented API for embedding graphs in applications.\n",
    "5. **Scikit-learn**: the machine learning library provides a variety of useful machine learning algorithms and is designed for interpolation in SciPy and NumPy."
   ]
  },
  {
   "cell_type": "markdown",
   "id": "61ff75b0-79e2-44b2-89fd-5924eb70bf1d",
   "metadata": {},
   "source": [
    "|  Data Science Tools     |\n",
    "|-------------------------|\n",
    "| Jupyter Notebook        |\n",
    "| RStudio                 |\n",
    "| Apache Zeppelin         |"
   ]
  },
  {
   "cell_type": "markdown",
   "id": "7b44a953-a1c0-4072-8723-a9d095ff3cfe",
   "metadata": {},
   "source": [
    "### Below are a few examples of evaluating arithmetic expressions in Python"
   ]
  },
  {
   "cell_type": "code",
   "execution_count": 37,
   "id": "0c228eb8-cc9d-44f0-866a-6625cd67a8a8",
   "metadata": {},
   "outputs": [
    {
     "data": {
      "text/plain": [
       "17"
      ]
     },
     "execution_count": 37,
     "metadata": {},
     "output_type": "execute_result"
    }
   ],
   "source": [
    "# is a simple arithmetic expression that needs to be expressed and then the integers added\n",
    "(3*4)+5"
   ]
  },
  {
   "cell_type": "code",
   "execution_count": 41,
   "id": "9515b9f9-de8f-4fa2-b86a-732151066c23",
   "metadata": {},
   "outputs": [
    {
     "data": {
      "text/plain": [
       "3.3333333333333335"
      ]
     },
     "execution_count": 41,
     "metadata": {},
     "output_type": "execute_result"
    }
   ],
   "source": [
    "# this will turn 200 minutes into hours at a 60 dive\n",
    "minutes = 200\n",
    "hours = minutes/60\n",
    "hours"
   ]
  },
  {
   "cell_type": "markdown",
   "id": "69fa9a21-964e-4c89-a468-65b110dca46f",
   "metadata": {},
   "source": [
    "# Autor\n",
    "## Olena Gloiko\n"
   ]
  },
  {
   "cell_type": "code",
   "execution_count": null,
   "id": "dbbf31fd-81da-4c24-b8af-ca8ff653d74f",
   "metadata": {},
   "outputs": [],
   "source": []
  }
 ],
 "metadata": {
  "kernelspec": {
   "display_name": "Python 3 (ipykernel)",
   "language": "python",
   "name": "python3"
  },
  "language_info": {
   "codemirror_mode": {
    "name": "ipython",
    "version": 3
   },
   "file_extension": ".py",
   "mimetype": "text/x-python",
   "name": "python",
   "nbconvert_exporter": "python",
   "pygments_lexer": "ipython3",
   "version": "3.12.7"
  }
 },
 "nbformat": 4,
 "nbformat_minor": 5
}
